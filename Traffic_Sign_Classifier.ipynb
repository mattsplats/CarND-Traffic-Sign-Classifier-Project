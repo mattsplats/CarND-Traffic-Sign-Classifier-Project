{
 "cells": [
  {
   "cell_type": "markdown",
   "metadata": {},
   "source": [
    "# Self-Driving Car Engineer Nanodegree\n",
    "\n",
    "## Deep Learning\n",
    "\n",
    "## Project: Build a Traffic Sign Recognition Classifier\n",
    "\n",
    "In this notebook, a template is provided for you to implement your functionality in stages, which is required to successfully complete this project. If additional code is required that cannot be included in the notebook, be sure that the Python code is successfully imported and included in your submission if necessary. \n",
    "\n",
    "> **Note**: Once you have completed all of the code implementations, you need to finalize your work by exporting the iPython Notebook as an HTML document. Before exporting the notebook to html, all of the code cells need to have been run so that reviewers can see the final implementation and output. You can then export the notebook by using the menu above and navigating to  \\n\",\n",
    "    \"**File -> Download as -> HTML (.html)**. Include the finished document along with this notebook as your submission. \n",
    "\n",
    "In addition to implementing code, there is a writeup to complete. The writeup should be completed in a separate file, which can be either a markdown file or a pdf document. There is a [write up template](https://github.com/udacity/CarND-Traffic-Sign-Classifier-Project/blob/master/writeup_template.md) that can be used to guide the writing process. Completing the code template and writeup template will cover all of the [rubric points](https://review.udacity.com/#!/rubrics/481/view) for this project.\n",
    "\n",
    "The [rubric](https://review.udacity.com/#!/rubrics/481/view) contains \"Stand Out Suggestions\" for enhancing the project beyond the minimum requirements. The stand out suggestions are optional. If you decide to pursue the \"stand out suggestions\", you can include the code in this Ipython notebook and also discuss the results in the writeup file.\n",
    "\n",
    "\n",
    ">**Note:** Code and Markdown cells can be executed using the **Shift + Enter** keyboard shortcut. In addition, Markdown cells can be edited by typically double-clicking the cell to enter edit mode."
   ]
  },
  {
   "cell_type": "markdown",
   "metadata": {},
   "source": [
    "---\n",
    "## Step 0: Load The Data"
   ]
  },
  {
   "cell_type": "code",
   "execution_count": 2,
   "metadata": {
    "collapsed": true
   },
   "outputs": [],
   "source": [
    "# Load pickled data\n",
    "import pickle\n",
    "\n",
    "# TODO: Fill this in based on where you saved the training and testing data\n",
    "import os\n",
    "\n",
    "data_dir = os.getcwd() + '/traffic-signs-data/'\n",
    "training_file   = data_dir + 'train.p'\n",
    "validation_file = data_dir + 'valid.p'\n",
    "testing_file    = data_dir + 'test.p'\n",
    "\n",
    "with open(training_file, mode='rb') as f:\n",
    "    train = pickle.load(f)\n",
    "with open(validation_file, mode='rb') as f:\n",
    "    valid = pickle.load(f)\n",
    "with open(testing_file, mode='rb') as f:\n",
    "    test = pickle.load(f)\n",
    "    \n",
    "X_train, y_train = train['features'], train['labels']\n",
    "X_valid, y_valid = valid['features'], valid['labels']\n",
    "X_test, y_test = test['features'], test['labels']"
   ]
  },
  {
   "cell_type": "markdown",
   "metadata": {},
   "source": [
    "---\n",
    "\n",
    "## Step 1: Dataset Summary & Exploration\n",
    "\n",
    "The pickled data is a dictionary with 4 key/value pairs:\n",
    "\n",
    "- `'features'` is a 4D array containing raw pixel data of the traffic sign images, (num examples, width, height, channels).\n",
    "- `'labels'` is a 1D array containing the label/class id of the traffic sign. The file `signnames.csv` contains id -> name mappings for each id.\n",
    "- `'sizes'` is a list containing tuples, (width, height) representing the original width and height the image.\n",
    "- `'coords'` is a list containing tuples, (x1, y1, x2, y2) representing coordinates of a bounding box around the sign in the image. **THESE COORDINATES ASSUME THE ORIGINAL IMAGE. THE PICKLED DATA CONTAINS RESIZED VERSIONS (32 by 32) OF THESE IMAGES**\n",
    "\n",
    "Complete the basic data summary below. Use python, numpy and/or pandas methods to calculate the data summary rather than hard coding the results. For example, the [pandas shape method](http://pandas.pydata.org/pandas-docs/stable/generated/pandas.DataFrame.shape.html) might be useful for calculating some of the summary results. "
   ]
  },
  {
   "cell_type": "markdown",
   "metadata": {},
   "source": [
    "### Provide a Basic Summary of the Data Set Using Python, Numpy and/or Pandas"
   ]
  },
  {
   "cell_type": "code",
   "execution_count": 3,
   "metadata": {},
   "outputs": [
    {
     "name": "stdout",
     "output_type": "stream",
     "text": [
      "Number of training examples = 34799\n",
      "Number of validation examples = 4410\n",
      "Number of testing examples = 12630\n",
      "Image data shape = (32, 32, 3)\n",
      "Number of classes = 43\n"
     ]
    }
   ],
   "source": [
    "### Replace each question mark with the appropriate value. \n",
    "### Use python, pandas or numpy methods rather than hard coding the results\n",
    "import numpy as np\n",
    "\n",
    "# TODO: Number of training examples\n",
    "n_train = len(X_train)\n",
    "\n",
    "# TODO: Number of validation examples\n",
    "n_validation = len(X_valid)\n",
    "\n",
    "# TODO: Number of testing examples.\n",
    "n_test = len(X_test)\n",
    "\n",
    "# TODO: What's the shape of an traffic sign image?\n",
    "image_shape = np.shape(X_train[0])\n",
    "\n",
    "# TODO: How many unique classes/labels there are in the dataset.\n",
    "n_classes = max(y_train) + 1\n",
    "\n",
    "print(\"Number of training examples =\", n_train)\n",
    "print(\"Number of validation examples =\", n_validation)\n",
    "print(\"Number of testing examples =\", n_test)\n",
    "print(\"Image data shape =\", image_shape)\n",
    "print(\"Number of classes =\", n_classes)"
   ]
  },
  {
   "cell_type": "markdown",
   "metadata": {},
   "source": [
    "### Include an exploratory visualization of the dataset"
   ]
  },
  {
   "cell_type": "markdown",
   "metadata": {},
   "source": [
    "Visualize the German Traffic Signs Dataset using the pickled file(s). This is open ended, suggestions include: plotting traffic sign images, plotting the count of each sign, etc. \n",
    "\n",
    "The [Matplotlib](http://matplotlib.org/) [examples](http://matplotlib.org/examples/index.html) and [gallery](http://matplotlib.org/gallery.html) pages are a great resource for doing visualizations in Python.\n",
    "\n",
    "**NOTE:** It's recommended you start with something simple first. If you wish to do more, come back to it after you've completed the rest of the sections. It can be interesting to look at the distribution of classes in the training, validation and test set. Is the distribution the same? Are there more examples of some classes than others?"
   ]
  },
  {
   "cell_type": "code",
   "execution_count": 5,
   "metadata": {},
   "outputs": [
    {
     "data": {
      "image/png": "[encoded data removed]",
      "text/plain": [
       "<matplotlib.figure.Figure at 0x110ea2710>"
      ]
     },
     "metadata": {},
     "output_type": "display_data"
    },
    {
     "data": {
      "image/png": "[encoded data removed]",
      "text/plain": [
       "<matplotlib.figure.Figure at 0x11100a0f0>"
      ]
     },
     "metadata": {},
     "output_type": "display_data"
    },
    {
     "data": {
      "image/png": "[encoded data removed]",
      "text/plain": [
       "<matplotlib.figure.Figure at 0x110fbf668>"
      ]
     },
     "metadata": {},
     "output_type": "display_data"
    }
   ],
   "source": [
    "### Data exploration visualization code goes here.\n",
    "### Feel free to use as many code cells as needed.\n",
    "import matplotlib.pyplot as plt\n",
    "# Visualizations will be shown in the notebook.\n",
    "%matplotlib inline\n",
    "\n",
    "plt.plot(np.histogram(y_train, bins=n_classes)[0])\n",
    "plt.title('Training Set Distribution')\n",
    "plt.xlabel('Classification')\n",
    "plt.ylabel('# of signs')\n",
    "plt.show()\n",
    "\n",
    "plt.plot(np.histogram(y_valid, bins=n_classes)[0])\n",
    "plt.title('Validation Set Distribution')\n",
    "plt.xlabel('Classification')\n",
    "plt.ylabel('# of signs')\n",
    "plt.show()\n",
    "\n",
    "plt.plot(np.histogram(y_test, bins=n_classes)[0])\n",
    "plt.title('Test Set Distribution')\n",
    "plt.xlabel('Classification')\n",
    "plt.ylabel('# of signs')\n",
    "plt.show()"
   ]
  },
  {
   "cell_type": "markdown",
   "metadata": {},
   "source": [
    "----\n",
    "\n",
    "## Step 2: Design and Test a Model Architecture\n",
    "\n",
    "Design and implement a deep learning model that learns to recognize traffic signs. Train and test your model on the [German Traffic Sign Dataset](http://benchmark.ini.rub.de/?section=gtsrb&subsection=dataset).\n",
    "\n",
    "The LeNet-5 implementation shown in the [classroom](https://classroom.udacity.com/nanodegrees/nd013/parts/fbf77062-5703-404e-b60c-95b78b2f3f9e/modules/6df7ae49-c61c-4bb2-a23e-6527e69209ec/lessons/601ae704-1035-4287-8b11-e2c2716217ad/concepts/d4aca031-508f-4e0b-b493-e7b706120f81) at the end of the CNN lesson is a solid starting point. You'll have to change the number of classes and possibly the preprocessing, but aside from that it's plug and play! \n",
    "\n",
    "With the LeNet-5 solution from the lecture, you should expect a validation set accuracy of about 0.89. To meet specifications, the validation set accuracy will need to be at least 0.93. It is possible to get an even higher accuracy, but 0.93 is the minimum for a successful project submission. \n",
    "\n",
    "There are various aspects to consider when thinking about this problem:\n",
    "\n",
    "- Neural network architecture (is the network over or underfitting?)\n",
    "- Play around preprocessing techniques (normalization, rgb to grayscale, etc)\n",
    "- Number of examples per label (some have more than others).\n",
    "- Generate fake data.\n",
    "\n",
    "Here is an example of a [published baseline model on this problem](http://yann.lecun.com/exdb/publis/pdf/sermanet-ijcnn-11.pdf). It's not required to be familiar with the approach used in the paper but, it's good practice to try to read papers like these."
   ]
  },
  {
   "cell_type": "markdown",
   "metadata": {},
   "source": [
    "### Pre-process the Data Set (normalization, grayscale, etc.)"
   ]
  },
  {
   "cell_type": "markdown",
   "metadata": {},
   "source": [
    "Minimally, the image data should be normalized so that the data has mean zero and equal variance. For image data, `(pixel - 128)/ 128` is a quick way to approximately normalize the data and can be used in this project. \n",
    "\n",
    "Other pre-processing steps are optional. You can try different techniques to see if it improves performance. \n",
    "\n",
    "Use the code cell (or multiple code cells, if necessary) to implement the first step of your project."
   ]
  },
  {
   "cell_type": "code",
   "execution_count": 5,
   "metadata": {
    "collapsed": true
   },
   "outputs": [],
   "source": [
    "### Preprocess the data here. It is required to normalize the data. Other preprocessing steps could include \n",
    "### converting to grayscale, etc.\n",
    "### Feel free to use as many code cells as needed.\n",
    "\n",
    "def preprocess (data):\n",
    "    # Convert to grayscale\n",
    "    data = np.add.reduce(data, axis=3)\n",
    "\n",
    "    # Normalize pixel values to mean=0\n",
    "    normalize_factor = 2 / (255 * 3)\n",
    "    subtract_arr = np.array([128 * 3])\n",
    "    \n",
    "    data = (data - subtract_arr) * normalize_factor\n",
    "    \n",
    "    # Reshape to fit LeNet\n",
    "    return data.reshape(-1, 32, 32, 1)\n",
    "    \n",
    "\n",
    "X_train, X_valid, X_test = preprocess(X_train), preprocess(X_valid), preprocess(X_test)"
   ]
  },
  {
   "cell_type": "markdown",
   "metadata": {},
   "source": [
    "### Model Architecture"
   ]
  },
  {
   "cell_type": "code",
   "execution_count": 6,
   "metadata": {
    "collapsed": true
   },
   "outputs": [],
   "source": [
    "### Define your architecture here.\n",
    "### Feel free to use as many code cells as needed.\n",
    "\n",
    "import tensorflow as tf\n",
    "\n",
    "EPOCHS = 50\n",
    "BATCH_SIZE = 128\n",
    "\n",
    "# Placeholders\n",
    "x = tf.placeholder(tf.float32, (None, 32, 32, 1))\n",
    "y = tf.placeholder(tf.int32, (None))\n",
    "one_hot_y = tf.one_hot(y, n_classes)\n",
    "keep_prob = tf.placeholder(tf.float32)\n",
    "\n",
    "# Shuffle initial data\n",
    "from sklearn.utils import shuffle\n",
    "X_train, y_train = shuffle(X_train, y_train)"
   ]
  },
  {
   "cell_type": "code",
   "execution_count": 7,
   "metadata": {
    "collapsed": true
   },
   "outputs": [],
   "source": [
    "# Arguments used for tf.truncated_normal, randomly defines variables for the weights and biases for each layer\n",
    "MU = 0\n",
    "SIGMA = 0.1\n",
    "\n",
    "# Weights and biases\n",
    "W = {\n",
    "    'conv1': tf.Variable(tf.truncated_normal([5,5,1,6],        mean=MU, stddev=SIGMA)),\n",
    "    'conv2': tf.Variable(tf.truncated_normal([5,5,6,16],       mean=MU, stddev=SIGMA)),\n",
    "    'fc1':   tf.Variable(tf.truncated_normal([1576, 400],      mean=MU, stddev=SIGMA)),\n",
    "    'fc2':   tf.Variable(tf.truncated_normal([400, 120],       mean=MU, stddev=SIGMA)),\n",
    "    'fc3':   tf.Variable(tf.truncated_normal([120, n_classes], mean=MU, stddev=SIGMA))\n",
    "}\n",
    "b = {\n",
    "    'conv1': tf.Variable(tf.zeros(6)),\n",
    "    'conv2': tf.Variable(tf.zeros(16)),\n",
    "    'fc1':   tf.Variable(tf.zeros(400)),\n",
    "    'fc2':   tf.Variable(tf.zeros(120)),\n",
    "    'fc3':   tf.Variable(tf.zeros(n_classes))\n",
    "}"
   ]
  },
  {
   "cell_type": "code",
   "execution_count": 8,
   "metadata": {
    "collapsed": true
   },
   "outputs": [],
   "source": [
    "def LeNet (x):    \n",
    "    # Layer 1: Convolutional. Input = 32x32x1. Output = 28x28x6.\n",
    "    layer1 = tf.nn.conv2d(\n",
    "        input=x,\n",
    "        filter=W['conv1'],\n",
    "        strides=[1,1,1,1],\n",
    "        padding='VALID'\n",
    "    ) \n",
    "    layer1 += b['conv1']\n",
    "    layer1 = tf.nn.relu(layer1)\n",
    "\n",
    "    # Pooling. Input = 28x28x6. Output = 14x14x6.\n",
    "    layer1 = tf.nn.max_pool(\n",
    "        value=layer1,\n",
    "        ksize=[1,2,2,1],\n",
    "        strides=[1,2,2,1],\n",
    "        padding='VALID'\n",
    "    )\n",
    "\n",
    "    # Layer 2: Convolutional. Output = 10x10x16.\n",
    "    layer2 = tf.nn.conv2d(\n",
    "        input=layer1,\n",
    "        filter=W['conv2'],\n",
    "        strides=[1,1,1,1],\n",
    "        padding='VALID'\n",
    "    ) \n",
    "    layer2 += b['conv2']\n",
    "    layer2 = tf.nn.relu(layer2)\n",
    "\n",
    "    # Pooling. Input = 10x10x16. Output = 5x5x16.\n",
    "    layer2 = tf.nn.max_pool(\n",
    "        value=layer2,\n",
    "        ksize=[1,2,2,1],\n",
    "        strides=[1,2,2,1],\n",
    "        padding='VALID'\n",
    "    )\n",
    "\n",
    "    # Flatten and concatenate Layer 1 and Layer 2. Input = 14x14x6 + 5x5x16. Output = 1576.\n",
    "    flat = tf.concat(1, [tf.contrib.layers.flatten(layer1), tf.contrib.layers.flatten(layer2)])\n",
    "    \n",
    "    # Layer 3: Fully Connected. Input = 1576. Output = 400.\n",
    "    layer3 = tf.matmul(flat, W['fc1']) + b['fc1']\n",
    "    layer3 = tf.nn.relu(layer3)\n",
    "    layer3 = tf.nn.dropout(layer3, keep_prob)\n",
    "\n",
    "    # Layer 4: Fully Connected. Input = 400. Output = 120.\n",
    "    layer4 = tf.matmul(layer3, W['fc2']) + b['fc2']\n",
    "    layer4 = tf.nn.relu(layer4)\n",
    "    layer4 = tf.nn.dropout(layer4, keep_prob)\n",
    "\n",
    "    # Layer 5: Fully Connected. Input = 120. Output = 43.\n",
    "    layer5 = tf.matmul(layer4, W['fc3']) + b['fc3']\n",
    "    \n",
    "    return layer5"
   ]
  },
  {
   "cell_type": "markdown",
   "metadata": {},
   "source": [
    "### Train, Validate and Test the Model"
   ]
  },
  {
   "cell_type": "markdown",
   "metadata": {},
   "source": [
    "A validation set can be used to assess how well the model is performing. A low accuracy on the training and validation\n",
    "sets imply underfitting. A high accuracy on the training set but low accuracy on the validation set implies overfitting."
   ]
  },
  {
   "cell_type": "code",
   "execution_count": 9,
   "metadata": {
    "collapsed": true
   },
   "outputs": [],
   "source": [
    "### Train your model here.\n",
    "### Calculate and report the accuracy on the training and validation set.\n",
    "### Once a final model architecture is selected, \n",
    "### the accuracy on the test set should be calculated and reported as well.\n",
    "### Feel free to use as many code cells as needed.\n",
    "\n",
    "# Model setup\n",
    "\n",
    "rate = 0.0003\n",
    "\n",
    "logits = LeNet(x)\n",
    "\n",
    "cross_entropy = tf.nn.softmax_cross_entropy_with_logits(labels=one_hot_y, logits=logits)\n",
    "l2_loss = 0.005 * tf.add_n([tf.nn.l2_loss(v) for n, v in W.items()])\n",
    "loss_operation = tf.reduce_mean(cross_entropy) + l2_loss\n",
    "\n",
    "optimizer = tf.train.AdamOptimizer(learning_rate=rate)\n",
    "training_operation = optimizer.minimize(loss_operation)"
   ]
  },
  {
   "cell_type": "code",
   "execution_count": 10,
   "metadata": {
    "collapsed": true
   },
   "outputs": [],
   "source": [
    "# Accuracy evaluation\n",
    "\n",
    "correct_prediction = tf.equal(tf.argmax(logits, 1), tf.argmax(one_hot_y, 1))\n",
    "accuracy_operation = tf.reduce_mean(tf.cast(correct_prediction, tf.float32))\n",
    "\n",
    "def evaluate(X_data, y_data):\n",
    "    num_examples = len(X_data)\n",
    "    total_accuracy = 0\n",
    "    sess = tf.get_default_session()\n",
    "    for offset in range(0, num_examples, BATCH_SIZE):\n",
    "        batch_x, batch_y = X_data[offset:offset+BATCH_SIZE], y_data[offset:offset+BATCH_SIZE]\n",
    "        accuracy = sess.run(accuracy_operation, feed_dict={x: batch_x, y: batch_y, keep_prob: 1.0})\n",
    "        total_accuracy += (accuracy * len(batch_x))\n",
    "    return total_accuracy / num_examples"
   ]
  },
  {
   "cell_type": "code",
   "execution_count": 11,
   "metadata": {},
   "outputs": [
    {
     "name": "stdout",
     "output_type": "stream",
     "text": [
      "Training...\n",
      "\n",
      "EPOCH 1 ...\n",
      "Test Accuracy = 0.441\n",
      "Validation Accuracy = 0.366\n",
      "\n",
      "EPOCH 2 ...\n",
      "Test Accuracy = 0.709\n",
      "Validation Accuracy = 0.623\n",
      "\n",
      "EPOCH 3 ...\n",
      "Test Accuracy = 0.829\n",
      "Validation Accuracy = 0.776\n",
      "\n",
      "EPOCH 4 ...\n",
      "Test Accuracy = 0.886\n",
      "Validation Accuracy = 0.832\n",
      "\n",
      "EPOCH 5 ...\n",
      "Test Accuracy = 0.907\n",
      "Validation Accuracy = 0.855\n",
      "\n",
      "EPOCH 6 ...\n",
      "Test Accuracy = 0.923\n",
      "Validation Accuracy = 0.882\n",
      "\n",
      "EPOCH 7 ...\n",
      "Test Accuracy = 0.939\n",
      "Validation Accuracy = 0.891\n",
      "\n",
      "EPOCH 8 ...\n",
      "Test Accuracy = 0.940\n",
      "Validation Accuracy = 0.895\n",
      "\n",
      "EPOCH 9 ...\n",
      "Test Accuracy = 0.955\n",
      "Validation Accuracy = 0.907\n",
      "\n",
      "EPOCH 10 ...\n",
      "Test Accuracy = 0.958\n",
      "Validation Accuracy = 0.914\n",
      "\n",
      "EPOCH 11 ...\n",
      "Test Accuracy = 0.962\n",
      "Validation Accuracy = 0.923\n",
      "\n",
      "EPOCH 12 ...\n",
      "Test Accuracy = 0.967\n",
      "Validation Accuracy = 0.926\n",
      "\n",
      "EPOCH 13 ...\n",
      "Test Accuracy = 0.966\n",
      "Validation Accuracy = 0.927\n",
      "\n",
      "EPOCH 14 ...\n",
      "Test Accuracy = 0.969\n",
      "Validation Accuracy = 0.922\n",
      "\n",
      "EPOCH 15 ...\n",
      "Test Accuracy = 0.970\n",
      "Validation Accuracy = 0.924\n",
      "\n",
      "EPOCH 16 ...\n",
      "Test Accuracy = 0.972\n",
      "Validation Accuracy = 0.924\n",
      "\n",
      "EPOCH 17 ...\n",
      "Test Accuracy = 0.969\n",
      "Validation Accuracy = 0.919\n",
      "\n",
      "EPOCH 18 ...\n",
      "Test Accuracy = 0.970\n",
      "Validation Accuracy = 0.918\n",
      "\n",
      "EPOCH 19 ...\n",
      "Test Accuracy = 0.975\n",
      "Validation Accuracy = 0.925\n",
      "\n",
      "EPOCH 20 ...\n",
      "Test Accuracy = 0.977\n",
      "Validation Accuracy = 0.933\n",
      "\n",
      "EPOCH 21 ...\n",
      "Test Accuracy = 0.975\n",
      "Validation Accuracy = 0.938\n",
      "\n",
      "EPOCH 22 ...\n",
      "Test Accuracy = 0.973\n",
      "Validation Accuracy = 0.927\n",
      "\n",
      "EPOCH 23 ...\n",
      "Test Accuracy = 0.977\n",
      "Validation Accuracy = 0.925\n",
      "\n",
      "EPOCH 24 ...\n",
      "Test Accuracy = 0.978\n",
      "Validation Accuracy = 0.926\n",
      "\n",
      "EPOCH 25 ...\n",
      "Test Accuracy = 0.980\n",
      "Validation Accuracy = 0.935\n",
      "\n",
      "EPOCH 26 ...\n",
      "Test Accuracy = 0.972\n",
      "Validation Accuracy = 0.927\n",
      "\n",
      "EPOCH 27 ...\n",
      "Test Accuracy = 0.978\n",
      "Validation Accuracy = 0.932\n",
      "\n",
      "EPOCH 28 ...\n",
      "Test Accuracy = 0.977\n",
      "Validation Accuracy = 0.921\n",
      "\n",
      "EPOCH 29 ...\n",
      "Test Accuracy = 0.982\n",
      "Validation Accuracy = 0.935\n",
      "\n",
      "EPOCH 30 ...\n",
      "Test Accuracy = 0.979\n",
      "Validation Accuracy = 0.927\n",
      "\n",
      "EPOCH 31 ...\n",
      "Test Accuracy = 0.982\n",
      "Validation Accuracy = 0.940\n",
      "\n",
      "Model saved\n",
      "EPOCH 32 ...\n",
      "Test Accuracy = 0.983\n",
      "Validation Accuracy = 0.940\n",
      "\n",
      "EPOCH 33 ...\n",
      "Test Accuracy = 0.982\n",
      "Validation Accuracy = 0.935\n",
      "\n",
      "EPOCH 34 ...\n",
      "Test Accuracy = 0.980\n",
      "Validation Accuracy = 0.933\n",
      "\n",
      "EPOCH 35 ...\n",
      "Test Accuracy = 0.980\n",
      "Validation Accuracy = 0.930\n",
      "\n",
      "EPOCH 36 ...\n",
      "Test Accuracy = 0.979\n",
      "Validation Accuracy = 0.938\n",
      "\n",
      "EPOCH 37 ...\n",
      "Test Accuracy = 0.981\n",
      "Validation Accuracy = 0.935\n",
      "\n",
      "EPOCH 38 ...\n",
      "Test Accuracy = 0.984\n",
      "Validation Accuracy = 0.932\n",
      "\n",
      "EPOCH 39 ...\n",
      "Test Accuracy = 0.980\n",
      "Validation Accuracy = 0.931\n",
      "\n",
      "EPOCH 40 ...\n",
      "Test Accuracy = 0.982\n",
      "Validation Accuracy = 0.928\n",
      "\n",
      "EPOCH 41 ...\n",
      "Test Accuracy = 0.983\n",
      "Validation Accuracy = 0.935\n",
      "\n",
      "EPOCH 42 ...\n",
      "Test Accuracy = 0.985\n",
      "Validation Accuracy = 0.943\n",
      "\n",
      "Model saved\n",
      "EPOCH 43 ...\n",
      "Test Accuracy = 0.984\n",
      "Validation Accuracy = 0.937\n",
      "\n",
      "EPOCH 44 ...\n",
      "Test Accuracy = 0.983\n",
      "Validation Accuracy = 0.933\n",
      "\n",
      "EPOCH 45 ...\n",
      "Test Accuracy = 0.987\n",
      "Validation Accuracy = 0.940\n",
      "\n",
      "Model saved\n",
      "EPOCH 46 ...\n",
      "Test Accuracy = 0.982\n",
      "Validation Accuracy = 0.931\n",
      "\n",
      "EPOCH 47 ...\n",
      "Test Accuracy = 0.984\n",
      "Validation Accuracy = 0.944\n",
      "\n",
      "Model saved\n",
      "EPOCH 48 ...\n",
      "Test Accuracy = 0.984\n",
      "Validation Accuracy = 0.932\n",
      "\n",
      "EPOCH 49 ...\n",
      "Test Accuracy = 0.985\n",
      "Validation Accuracy = 0.932\n",
      "\n",
      "EPOCH 50 ...\n",
      "Test Accuracy = 0.985\n",
      "Validation Accuracy = 0.939\n",
      "\n"
     ]
    }
   ],
   "source": [
    "# Training sequence\n",
    "\n",
    "saver = tf.train.Saver()\n",
    "minimum_accuracy = 0.94\n",
    "\n",
    "with tf.Session() as sess:\n",
    "    sess.run(tf.global_variables_initializer())\n",
    "    num_examples = len(X_train)\n",
    "    \n",
    "    print(\"Training...\")\n",
    "    print()\n",
    "    \n",
    "    best_accuracy = 0\n",
    "    for i in range(EPOCHS):\n",
    "        X_train, y_train = shuffle(X_train, y_train)\n",
    "        for offset in range(0, num_examples, BATCH_SIZE):\n",
    "            end = offset + BATCH_SIZE\n",
    "            batch_x, batch_y = X_train[offset:end], y_train[offset:end]\n",
    "            sess.run(training_operation, feed_dict={x: batch_x, y: batch_y, keep_prob: 0.5})\n",
    "            \n",
    "        test_accuracy = evaluate(X_train, y_train)\n",
    "        validation_accuracy = evaluate(X_valid, y_valid)\n",
    "        print(\"EPOCH {} ...\".format(i+1))\n",
    "        print(\"Test Accuracy = {:.3f}\".format(test_accuracy))\n",
    "        print(\"Validation Accuracy = {:.3f}\".format(validation_accuracy))\n",
    "        \n",
    "        if validation_accuracy >= minimum_accuracy and validation_accuracy > best_accuracy:\n",
    "            saver.save(sess, './lenet')\n",
    "            print(\"Model saved\")\n",
    "        print()\n",
    "            \n",
    "        if validation_accuracy > best_accuracy:\n",
    "            best_accuracy = validation_accuracy"
   ]
  },
  {
   "cell_type": "code",
   "execution_count": 12,
   "metadata": {},
   "outputs": [
    {
     "name": "stdout",
     "output_type": "stream",
     "text": [
      "Test Accuracy = 0.925\n"
     ]
    }
   ],
   "source": [
    "# Test sequence\n",
    "\n",
    "with tf.Session() as sess:\n",
    "    saver.restore(sess, tf.train.latest_checkpoint('.'))\n",
    "\n",
    "    test_accuracy = evaluate(X_test, y_test)\n",
    "    print(\"Test Accuracy = {:.3f}\".format(test_accuracy))"
   ]
  },
  {
   "cell_type": "markdown",
   "metadata": {},
   "source": [
    "---\n",
    "\n",
    "## Step 3: Test a Model on New Images\n",
    "\n",
    "To give yourself more insight into how your model is working, download at least five pictures of German traffic signs from the web and use your model to predict the traffic sign type.\n",
    "\n",
    "You may find `signnames.csv` useful as it contains mappings from the class id (integer) to the actual sign name."
   ]
  },
  {
   "cell_type": "markdown",
   "metadata": {},
   "source": [
    "### Load and Output the Images"
   ]
  },
  {
   "cell_type": "code",
   "execution_count": 86,
   "metadata": {},
   "outputs": [
    {
     "data": {
      "image/png": "[encoded data removed]",
      "text/plain": [
       "<matplotlib.figure.Figure at 0x112b3f0f0>"
      ]
     },
     "metadata": {},
     "output_type": "display_data"
    },
    {
     "data": {
      "image/png": "[encoded data removed]",
      "text/plain": [
       "<matplotlib.figure.Figure at 0x112a08be0>"
      ]
     },
     "metadata": {},
     "output_type": "display_data"
    },
    {
     "data": {
      "image/png": "[encoded data removed]",
      "text/plain": [
       "<matplotlib.figure.Figure at 0x10a9b0ef0>"
      ]
     },
     "metadata": {},
     "output_type": "display_data"
    },
    {
     "data": {
      "image/png": "[encoded data removed]",
      "text/plain": [
       "<matplotlib.figure.Figure at 0x112910240>"
      ]
     },
     "metadata": {},
     "output_type": "display_data"
    },
    {
     "data": {
      "image/png": "[encoded data removed]",
      "text/plain": [
       "<matplotlib.figure.Figure at 0x115817be0>"
      ]
     },
     "metadata": {},
     "output_type": "display_data"
    }
   ],
   "source": [
    "### Load the images and plot them here.\n",
    "### Feel free to use as many code cells as needed.\n",
    "\n",
    "new_images = []\n",
    "\n",
    "with tf.Session() as sess:\n",
    "    new_images = np.array([sess.run(tf.image.decode_jpeg(tf.read_file('/Users/mdavis/Dropbox (Personal)/Coding/Udacity/CarND-Traffic-Sign-Classifier-Project/web_signs/scaled/0{}.jpg'.format(i+1)))) for i in range(5)])\n",
    "    for image, i in zip(new_images, range(5)):\n",
    "        plt.figure()\n",
    "        plt.title('0{}.jpg'.format(i+1))\n",
    "        plt.imshow(image)"
   ]
  },
  {
   "cell_type": "markdown",
   "metadata": {},
   "source": [
    "### Predict the Sign Type for Each Image"
   ]
  },
  {
   "cell_type": "code",
   "execution_count": 87,
   "metadata": {},
   "outputs": [],
   "source": [
    "### Run the predictions here and use the model to output the prediction for each image.\n",
    "### Make sure to pre-process the images with the same pre-processing pipeline used earlier.\n",
    "### Feel free to use as many code cells as needed.\n",
    "\n",
    "X_new = preprocess(new_images)\n",
    "y_new = [36, 40, 17, 2, 11]"
   ]
  },
  {
   "cell_type": "markdown",
   "metadata": {},
   "source": [
    "### Analyze Performance"
   ]
  },
  {
   "cell_type": "code",
   "execution_count": 88,
   "metadata": {},
   "outputs": [
    {
     "name": "stdout",
     "output_type": "stream",
     "text": [
      "Imported Image Accuracy = 0.800\n"
     ]
    }
   ],
   "source": [
    "### Calculate the accuracy for these 5 new images. \n",
    "### For example, if the model predicted 1 out of 5 signs correctly, it's 20% accurate on these new images.\n",
    "\n",
    "with tf.Session() as sess:\n",
    "    saver.restore(sess, tf.train.latest_checkpoint('.'))\n",
    "\n",
    "    new_accuracy = evaluate(X_new, y_new)\n",
    "    print(\"Imported Image Accuracy = {:.3f}\".format(new_accuracy))"
   ]
  },
  {
   "cell_type": "markdown",
   "metadata": {},
   "source": [
    "### Output Top 5 Softmax Probabilities For Each Image Found on the Web"
   ]
  },
  {
   "cell_type": "markdown",
   "metadata": {},
   "source": [
    "For each of the new images, print out the model's softmax probabilities to show the **certainty** of the model's predictions (limit the output to the top 5 probabilities for each image). [`tf.nn.top_k`](https://www.tensorflow.org/versions/r0.12/api_docs/python/nn.html#top_k) could prove helpful here. \n",
    "\n",
    "The example below demonstrates how tf.nn.top_k can be used to find the top k predictions for each image.\n",
    "\n",
    "`tf.nn.top_k` will return the values and indices (class ids) of the top k predictions. So if k=3, for each sign, it'll return the 3 largest probabilities (out of a possible 43) and the correspoding class ids.\n",
    "\n",
    "Take this numpy array as an example. The values in the array represent predictions. The array contains softmax probabilities for five candidate images with six possible classes. `tf.nn.top_k` is used to choose the three classes with the highest probability:\n",
    "\n",
    "```\n",
    "# (5, 6) array\n",
    "a = np.array([[ 0.24879643,  0.07032244,  0.12641572,  0.34763842,  0.07893497,\n",
    "         0.12789202],\n",
    "       [ 0.28086119,  0.27569815,  0.08594638,  0.0178669 ,  0.18063401,\n",
    "         0.15899337],\n",
    "       [ 0.26076848,  0.23664738,  0.08020603,  0.07001922,  0.1134371 ,\n",
    "         0.23892179],\n",
    "       [ 0.11943333,  0.29198961,  0.02605103,  0.26234032,  0.1351348 ,\n",
    "         0.16505091],\n",
    "       [ 0.09561176,  0.34396535,  0.0643941 ,  0.16240774,  0.24206137,\n",
    "         0.09155967]])\n",
    "```\n",
    "\n",
    "Running it through `sess.run(tf.nn.top_k(tf.constant(a), k=3))` produces:\n",
    "\n",
    "```\n",
    "TopKV2(values=array([[ 0.34763842,  0.24879643,  0.12789202],\n",
    "       [ 0.28086119,  0.27569815,  0.18063401],\n",
    "       [ 0.26076848,  0.23892179,  0.23664738],\n",
    "       [ 0.29198961,  0.26234032,  0.16505091],\n",
    "       [ 0.34396535,  0.24206137,  0.16240774]]), indices=array([[3, 0, 5],\n",
    "       [0, 1, 4],\n",
    "       [0, 5, 1],\n",
    "       [1, 3, 5],\n",
    "       [1, 4, 3]], dtype=int32))\n",
    "```\n",
    "\n",
    "Looking just at the first row we get `[ 0.34763842,  0.24879643,  0.12789202]`, you can confirm these are the 3 largest probabilities in `a`. You'll also notice `[3, 0, 5]` are the corresponding indices."
   ]
  },
  {
   "cell_type": "code",
   "execution_count": 89,
   "metadata": {},
   "outputs": [
    {
     "name": "stdout",
     "output_type": "stream",
     "text": [
      "01.jpg (Correct index: 36)\n",
      "    88.4% chance of index 36\n",
      "     6.0% chance of index 18\n",
      "     3.1% chance of index 26\n",
      "     1.1% chance of index  4\n",
      "     0.8% chance of index 14\n",
      "\n",
      "02.jpg (Correct index: 40)\n",
      "    92.6% chance of index 40\n",
      "     6.6% chance of index 12\n",
      "     0.3% chance of index  9\n",
      "     0.2% chance of index 41\n",
      "     0.2% chance of index 17\n",
      "\n",
      "03.jpg (Correct index: 17)\n",
      "   100.0% chance of index 17\n",
      "     0.0% chance of index 14\n",
      "     0.0% chance of index 40\n",
      "     0.0% chance of index  9\n",
      "     0.0% chance of index 34\n",
      "\n",
      "04.jpg (Correct index: 2)\n",
      "    39.3% chance of index 39\n",
      "    32.8% chance of index 31\n",
      "     8.5% chance of index  2\n",
      "     5.2% chance of index 40\n",
      "     4.7% chance of index  1\n",
      "\n",
      "05.jpg (Correct index: 11)\n",
      "    99.3% chance of index 11\n",
      "     0.7% chance of index 30\n",
      "     0.0% chance of index 27\n",
      "     0.0% chance of index 28\n",
      "     0.0% chance of index 21\n",
      "\n"
     ]
    }
   ],
   "source": [
    "### Print out the top five softmax probabilities for the predictions on the German traffic sign images found on the web. \n",
    "### Feel free to use as many code cells as needed.\n",
    "\n",
    "with tf.Session() as sess:\n",
    "    saver.restore(sess, tf.train.latest_checkpoint('.'))\n",
    "    \n",
    "    probs, indices = sess.run(tf.nn.top_k(tf.nn.softmax(logits), k=5), feed_dict={x: X_new, y: y_new, keep_prob: 1.0})\n",
    "    for sign_num, prob, index, correct in zip(range(1,6), probs, indices, y_new):\n",
    "        print('0{}.jpg (Correct index: {})'.format(sign_num, correct))\n",
    "        for p, i in zip(prob, index):\n",
    "            print('  {: 6.1f}% chance of index {:>2}'.format(p*100, i))\n",
    "        print()"
   ]
  },
  {
   "cell_type": "markdown",
   "metadata": {},
   "source": [
    "### Project Writeup\n",
    "\n",
    "Once you have completed the code implementation, document your results in a project writeup using this [template](https://github.com/udacity/CarND-Traffic-Sign-Classifier-Project/blob/master/writeup_template.md) as a guide. The writeup can be in a markdown or pdf file. "
   ]
  },
  {
   "cell_type": "markdown",
   "metadata": {},
   "source": [
    "> **Note**: Once you have completed all of the code implementations and successfully answered each question above, you may finalize your work by exporting the iPython Notebook as an HTML document. You can do this by using the menu above and navigating to  \\n\",\n",
    "    \"**File -> Download as -> HTML (.html)**. Include the finished document along with this notebook as your submission."
   ]
  },
  {
   "cell_type": "markdown",
   "metadata": {},
   "source": [
    "---\n",
    "\n",
    "## Step 4 (Optional): Visualize the Neural Network's State with Test Images\n",
    "\n",
    " This Section is not required to complete but acts as an additional excersise for understaning the output of a neural network's weights. While neural networks can be a great learning device they are often referred to as a black box. We can understand what the weights of a neural network look like better by plotting their feature maps. After successfully training your neural network you can see what it's feature maps look like by plotting the output of the network's weight layers in response to a test stimuli image. From these plotted feature maps, it's possible to see what characteristics of an image the network finds interesting. For a sign, maybe the inner network feature maps react with high activation to the sign's boundary outline or to the contrast in the sign's painted symbol.\n",
    "\n",
    " Provided for you below is the function code that allows you to get the visualization output of any tensorflow weight layer you want. The inputs to the function should be a stimuli image, one used during training or a new one you provided, and then the tensorflow variable name that represents the layer's state during the training process, for instance if you wanted to see what the [LeNet lab's](https://classroom.udacity.com/nanodegrees/nd013/parts/fbf77062-5703-404e-b60c-95b78b2f3f9e/modules/6df7ae49-c61c-4bb2-a23e-6527e69209ec/lessons/601ae704-1035-4287-8b11-e2c2716217ad/concepts/d4aca031-508f-4e0b-b493-e7b706120f81) feature maps looked like for it's second convolutional layer you could enter conv2 as the tf_activation variable.\n",
    "\n",
    "For an example of what feature map outputs look like, check out NVIDIA's results in their paper [End-to-End Deep Learning for Self-Driving Cars](https://devblogs.nvidia.com/parallelforall/deep-learning-self-driving-cars/) in the section Visualization of internal CNN State. NVIDIA was able to show that their network's inner weights had high activations to road boundary lines by comparing feature maps from an image with a clear path to one without. Try experimenting with a similar test to show that your trained network's weights are looking for interesting features, whether it's looking at differences in feature maps from images with or without a sign, or even what feature maps look like in a trained network vs a completely untrained one on the same sign image.\n",
    "\n",
    "<figure>\n",
    " <img src=\"visualize_cnn.png\" width=\"380\" alt=\"Combined Image\" />\n",
    " <figcaption>\n",
    " <p></p> \n",
    " <p style=\"text-align: center;\"> Your output should look something like this (above)</p> \n",
    " </figcaption>\n",
    "</figure>\n",
    " <p></p> \n"
   ]
  },
  {
   "cell_type": "code",
   "execution_count": null,
   "metadata": {
    "collapsed": true
   },
   "outputs": [],
   "source": [
    "### Visualize your network's feature maps here.\n",
    "### Feel free to use as many code cells as needed.\n",
    "\n",
    "# image_input: the test image being fed into the network to produce the feature maps\n",
    "# tf_activation: should be a tf variable name used during your training procedure that represents the calculated state of a specific weight layer\n",
    "# activation_min/max: can be used to view the activation contrast in more detail, by default matplot sets min and max to the actual min and max values of the output\n",
    "# plt_num: used to plot out multiple different weight feature map sets on the same block, just extend the plt number for each new feature map entry\n",
    "\n",
    "def outputFeatureMap(image_input, tf_activation, activation_min=-1, activation_max=-1 ,plt_num=1):\n",
    "    # Here make sure to preprocess your image_input in a way your network expects\n",
    "    # with size, normalization, ect if needed\n",
    "    # image_input =\n",
    "    # Note: x should be the same name as your network's tensorflow data placeholder variable\n",
    "    # If you get an error tf_activation is not defined it may be having trouble accessing the variable from inside a function\n",
    "    activation = tf_activation.eval(session=sess,feed_dict={x : image_input})\n",
    "    featuremaps = activation.shape[3]\n",
    "    plt.figure(plt_num, figsize=(15,15))\n",
    "    for featuremap in range(featuremaps):\n",
    "        plt.subplot(6,8, featuremap+1) # sets the number of feature maps to show on each row and column\n",
    "        plt.title('FeatureMap ' + str(featuremap)) # displays the feature map number\n",
    "        if activation_min != -1 & activation_max != -1:\n",
    "            plt.imshow(activation[0,:,:, featuremap], interpolation=\"nearest\", vmin =activation_min, vmax=activation_max, cmap=\"gray\")\n",
    "        elif activation_max != -1:\n",
    "            plt.imshow(activation[0,:,:, featuremap], interpolation=\"nearest\", vmax=activation_max, cmap=\"gray\")\n",
    "        elif activation_min !=-1:\n",
    "            plt.imshow(activation[0,:,:, featuremap], interpolation=\"nearest\", vmin=activation_min, cmap=\"gray\")\n",
    "        else:\n",
    "            plt.imshow(activation[0,:,:, featuremap], interpolation=\"nearest\", cmap=\"gray\")"
   ]
  }
 ],
 "metadata": {
  "anaconda-cloud": {},
  "kernelspec": {
   "display_name": "Python 3",
   "language": "python",
   "name": "python3"
  },
  "language_info": {
   "codemirror_mode": {
    "name": "ipython",
    "version": 3
   },
   "file_extension": ".py",
   "mimetype": "text/x-python",
   "name": "python",
   "nbconvert_exporter": "python",
   "pygments_lexer": "ipython3",
   "version": "3.5.2"
  },
  "widgets": {
   "state": {},
   "version": "1.1.2"
  }
 },
 "nbformat": 4,
 "nbformat_minor": 1
}
